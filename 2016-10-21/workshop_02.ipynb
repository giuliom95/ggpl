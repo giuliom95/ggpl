{
 "cells": [
  {
   "cell_type": "markdown",
   "metadata": {
    "collapsed": true
   },
   "source": [
    "# Workshop_02  2016-10-21\n",
    "The reference structure I choose to reproduce is:\n",
    "![alt text](http://www.ragusanews.com/immagini_articoli/24-02-2014/1396117860-aaa-cemento-armato-su-tre-piani-in-zona-agricola-vista-paesaggio.jpg \"Riferimento\")\n",
    "\n",
    "Delaying the problem of the beams between the pillars frames (*i telai piani*), the first solution that has come to my mind is to evaluate every line of the CVS file in order.\n",
    "So, the subproblems are:\n",
    "1. Split every line of the CVS in a list of lists\n",
    "2. Generate a PyPlasm object (either an HPC of pillar frames or a translation) from the list created in step 1\n",
    "3. Generate a list of PyPlasm objects ready for the STRUCT function"
   ]
  },
  {
   "cell_type": "code",
   "execution_count": 1,
   "metadata": {
    "collapsed": false
   },
   "outputs": [
    {
     "name": "stdout",
     "output_type": "stream",
     "text": [
      "Evaluating fenvs.py..\n",
      "...fenvs.py imported in 0.02 seconds\n"
     ]
    }
   ],
   "source": [
    "#I run the code of the workshop_01. It imports larlib and also provides the method for generating the pillar frames\n",
    "%run frameGenerator.py"
   ]
  },
  {
   "cell_type": "markdown",
   "metadata": {
    "collapsed": true
   },
   "source": [
    "Here the first solution proposed:"
   ]
  },
  {
   "cell_type": "code",
   "execution_count": 4,
   "metadata": {
    "collapsed": true
   },
   "outputs": [],
   "source": [
    "from larlib import *\n",
    "import frameGenerator\n",
    "\n",
    "def strToParameters(string):\n",
    "    \"\"\"Creates a list of lists of floats from a CSV line\"\"\"\n",
    "    cells = string.split(';')\n",
    "    final = []\n",
    "    for element in cells:\n",
    "        final.append([float(num) for num in element.split(',')])\n",
    "    return final\n",
    "    \n",
    "def generateListElement(param):\n",
    "    \"\"\"Given a list, it returns a list of pyPlasm objects\"\"\"\n",
    "    \n",
    "    if len(param) == 1:\n",
    "        return [T(i+1)(param[0][i]) for i in range(len(param[0]))]\n",
    "    else:\n",
    "        return [frameGenerator.createStructure(param[0],param[1],param[2],param[3],'pillars>beams')]\n",
    "        \n",
    "def stringsToCG(lines):\n",
    "    \"\"\"Given a list of strings returns a list of pyPlasm functions\"\"\"\n",
    "    \n",
    "    ret = []\n",
    "    for line in lines:\n",
    "        ret.extend(generateListElement(strToParameters(line)))\n",
    "    return ret\n",
    "    \n",
    "def ggpl_bone_structure(file_name):\n",
    "    with open(file_name) as csv:\n",
    "        return STRUCT(stringsToCG(csv.readlines()))"
   ]
  },
  {
   "cell_type": "markdown",
   "metadata": {},
   "source": [
    "This solutions works. Let's test it with a CVS representing the reference structure."
   ]
  },
  {
   "cell_type": "code",
   "execution_count": 5,
   "metadata": {
    "collapsed": false
   },
   "outputs": [
    {
     "data": {
      "text/plain": [
       "<pyplasm.xgepy.Hpc; proxy of <Swig Object of type 'std::shared_ptr< Hpc > *' at 0x6cae720> >"
      ]
     },
     "execution_count": 5,
     "metadata": {},
     "output_type": "execute_result"
    }
   ],
   "source": [
    "ggpl_bone_structure('frame_data_486815.csv')"
   ]
  },
  {
   "cell_type": "markdown",
   "metadata": {},
   "source": [
    "Ok, it generates an Hpc. Let's visualize it."
   ]
  },
  {
   "cell_type": "code",
   "execution_count": 6,
   "metadata": {
    "collapsed": false
   },
   "outputs": [
    {
     "data": {
      "text/plain": [
       "<pyplasm.xgepy.Hpc; proxy of <Swig Object of type 'std::shared_ptr< Hpc > *' at 0x6cae6c0> >"
      ]
     },
     "execution_count": 6,
     "metadata": {},
     "output_type": "execute_result"
    }
   ],
   "source": [
    "VIEW(ggpl_bone_structure('frame_data_486815.csv'))"
   ]
  },
  {
   "cell_type": "markdown",
   "metadata": {},
   "source": [
    "![alt text](./images/frame1.png \"Riferimento\")\n",
    "Ops. Pillar frames are pretty near. Now I will use a new CSV:"
   ]
  },
  {
   "cell_type": "markdown",
   "metadata": {},
   "source": [
    "Ops. Pillar frames are pretty near. Now I will use a new CSV:"
   ]
  },
  {
   "cell_type": "code",
   "execution_count": 9,
   "metadata": {
    "collapsed": false
   },
   "outputs": [
    {
     "data": {
      "text/plain": [
       "<pyplasm.xgepy.Hpc; proxy of <Swig Object of type 'std::shared_ptr< Hpc > *' at 0x6cae630> >"
      ]
     },
     "execution_count": 9,
     "metadata": {},
     "output_type": "execute_result"
    }
   ],
   "source": [
    "VIEW(ggpl_bone_structure('frame_data_486815_v2.csv'))"
   ]
  },
  {
   "cell_type": "markdown",
   "metadata": {},
   "source": [
    "Ok, looks good:\n",
    "![alt text](./images/frame2.png \"Riferimento\")\n",
    "But pillars and beams seems too thin. Here another test:"
   ]
  },
  {
   "cell_type": "code",
   "execution_count": 11,
   "metadata": {
    "collapsed": false
   },
   "outputs": [
    {
     "data": {
      "text/plain": [
       "<pyplasm.xgepy.Hpc; proxy of <Swig Object of type 'std::shared_ptr< Hpc > *' at 0x6cae510> >"
      ]
     },
     "execution_count": 11,
     "metadata": {},
     "output_type": "execute_result"
    }
   ],
   "source": [
    "VIEW(ggpl_bone_structure('frame_data_486815_v3.csv'))"
   ]
  },
  {
   "cell_type": "markdown",
   "metadata": {},
   "source": [
    "Ok, better.\n",
    "![alt text](./images/frame3.png \"Frame 3\")\n"
   ]
  },
  {
   "cell_type": "code",
   "execution_count": null,
   "metadata": {
    "collapsed": true
   },
   "outputs": [],
   "source": []
  }
 ],
 "metadata": {
  "kernelspec": {
   "display_name": "Python 2",
   "language": "python",
   "name": "python2"
  },
  "language_info": {
   "codemirror_mode": {
    "name": "ipython",
    "version": 2
   },
   "file_extension": ".py",
   "mimetype": "text/x-python",
   "name": "python",
   "nbconvert_exporter": "python",
   "pygments_lexer": "ipython2",
   "version": "2.7.5"
  }
 },
 "nbformat": 4,
 "nbformat_minor": 1
}
