{
 "cells": [
  {
   "cell_type": "markdown",
   "metadata": {
    "collapsed": true
   },
   "source": [
    "# Workshop_02  2016-10-21\n",
    "The reference structure I choose to reproduce is:\n",
    "![alt text](http://www.ragusanews.com/immagini_articoli/24-02-2014/1396117860-aaa-cemento-armato-su-tre-piani-in-zona-agricola-vista-paesaggio.jpg \"Riferimento\")\n",
    "\n",
    "Delaying the problem of the beams between the pillars frames (*i telai piani*), the first solution that has come to my mind is to evaluate every line of the CVS file in order.\n",
    "So, the subproblems are:\n",
    "1. Split every line of the CVS in a list of lists\n",
    "2. Generate a PyPlasm object (either an HPC of pillar frames or a translation) from the list created in step 1\n",
    "3. Generate a list of PyPlasm objects ready for the STRUCT function"
   ]
  },
  {
   "cell_type": "code",
   "execution_count": 4,
   "metadata": {
    "collapsed": false
   },
   "outputs": [
    {
     "name": "stdout",
     "output_type": "stream",
     "text": [
      "Evaluating fenvs.py..\n",
      "...fenvs.py imported in 0.02 seconds\n"
     ]
    }
   ],
   "source": [
    "#I run the code of the workshop_01. It imports larlib and also provides the method for generating the pillar frames\n",
    "%run frameGenerator.py"
   ]
  },
  {
   "cell_type": "markdown",
   "metadata": {
    "collapsed": true
   },
   "source": [
    "Here the first solution proposed:"
   ]
  },
  {
   "cell_type": "code",
   "execution_count": 5,
   "metadata": {
    "collapsed": true
   },
   "outputs": [],
   "source": [
    "from larlib import *\n",
    "import frameGenerator\n",
    "\n",
    "def strToParameters(string):\n",
    "    \"\"\"Creates a list of lists of floats from a CSV line\"\"\"\n",
    "    cells = string.split(';')\n",
    "    final = []\n",
    "    for element in cells:\n",
    "        final.append([float(num) for num in element.split(',')])\n",
    "    return final\n",
    "    \n",
    "def generateListElement(param):\n",
    "    \"\"\"Given a list, it returns a list of pyPlasm objects\"\"\"\n",
    "    \n",
    "    if len(param) == 1:\n",
    "        return [T(i+1)(param[0][i]) for i in range(len(param[0]))]\n",
    "    else:\n",
    "        return [frameGenerator.createStructure(param[0],param[1],param[2],param[3],'pillars>beams')]\n",
    "        \n",
    "def stringsToCG(lines):\n",
    "    \"\"\"Given a list of strings returns a list of pyPlasm functions\"\"\"\n",
    "    \n",
    "    ret = []\n",
    "    for line in lines:\n",
    "        ret.extend(generateListElement(strToParameters(line)))\n",
    "    return ret\n",
    "    \n",
    "def ggpl_bone_structure(file_name):\n",
    "    with open(file_name) as csv:\n",
    "        return STRUCT(stringsToCG(csv.readlines()))"
   ]
  },
  {
   "cell_type": "markdown",
   "metadata": {},
   "source": [
    "This solutions works. Let's test it with a CVS representing the reference structure."
   ]
  },
  {
   "cell_type": "code",
   "execution_count": 5,
   "metadata": {
    "collapsed": false
   },
   "outputs": [
    {
     "data": {
      "text/plain": [
       "<pyplasm.xgepy.Hpc; proxy of <Swig Object of type 'std::shared_ptr< Hpc > *' at 0x6cae720> >"
      ]
     },
     "execution_count": 5,
     "metadata": {},
     "output_type": "execute_result"
    }
   ],
   "source": [
    "ggpl_bone_structure('frame_data_486815.csv')"
   ]
  },
  {
   "cell_type": "markdown",
   "metadata": {},
   "source": [
    "Ok, it generates an Hpc. Let's visualize it."
   ]
  },
  {
   "cell_type": "code",
   "execution_count": 6,
   "metadata": {
    "collapsed": false
   },
   "outputs": [
    {
     "data": {
      "text/plain": [
       "<pyplasm.xgepy.Hpc; proxy of <Swig Object of type 'std::shared_ptr< Hpc > *' at 0x6cae6c0> >"
      ]
     },
     "execution_count": 6,
     "metadata": {},
     "output_type": "execute_result"
    }
   ],
   "source": [
    "VIEW(ggpl_bone_structure('frame_data_486815.csv'))"
   ]
  },
  {
   "cell_type": "markdown",
   "metadata": {},
   "source": [
    "[frame_data_486815.csv](./frame_data_486815.csv)\n",
    "![alt text](./images/frame1.png \"Riferimento\")\n",
    "Ops. Pillar frames are pretty near. Now I will use a new CSV:"
   ]
  },
  {
   "cell_type": "code",
   "execution_count": 9,
   "metadata": {
    "collapsed": false
   },
   "outputs": [
    {
     "data": {
      "text/plain": [
       "<pyplasm.xgepy.Hpc; proxy of <Swig Object of type 'std::shared_ptr< Hpc > *' at 0x6cae630> >"
      ]
     },
     "execution_count": 9,
     "metadata": {},
     "output_type": "execute_result"
    }
   ],
   "source": [
    "VIEW(ggpl_bone_structure('frame_data_486815_v2.csv'))"
   ]
  },
  {
   "cell_type": "markdown",
   "metadata": {},
   "source": [
    "Ok, looks good: [frame_data_486815_v2.csv](./frame_data_486815_v2.csv)\n",
    "![alt text](./images/frame2.png \"Riferimento\")\n",
    "But pillars and beams seems too thin. Here another test:"
   ]
  },
  {
   "cell_type": "code",
   "execution_count": 11,
   "metadata": {
    "collapsed": false
   },
   "outputs": [
    {
     "data": {
      "text/plain": [
       "<pyplasm.xgepy.Hpc; proxy of <Swig Object of type 'std::shared_ptr< Hpc > *' at 0x6cae510> >"
      ]
     },
     "execution_count": 11,
     "metadata": {},
     "output_type": "execute_result"
    }
   ],
   "source": [
    "VIEW(ggpl_bone_structure('frame_data_486815_v3.csv'))"
   ]
  },
  {
   "cell_type": "markdown",
   "metadata": {},
   "source": [
    "Ok, better. [frame_data_486815_v3.csv](./frame_data_486815_v3.csv)\n",
    "![alt text](./images/frame3.png \"Frame 3\")\n",
    "### The missing beams\n",
    "Now I need to add the missing beams. I have absolutely no ideas on how to create a full parametric system to generate them. Especially in cases like this one:\n",
    "![alt-text](http://files.spazioweb.it/aruba57278/image/telaio.jpg)\n",
    "But trying to model my reference seems easier. Here an algorithm:\n",
    "1. Given CSV data of pillar frame, generate a list of points where a pillar and a beam collide\n",
    "2. Given the list from step 1 and the list of translations vectors from the CSV, calculate the world positions of these points.\n",
    "3. Iterates the freshly generated points and for every couple of points (p1,p2) that satisfy the condition (p1.y==p2.y)&&(p1.z==p2.z)&&(p1.x<p2.z) then generate a beam and eliminate p1 from the list.\n",
    "\n",
    "Let's test a little"
   ]
  },
  {
   "cell_type": "code",
   "execution_count": 1,
   "metadata": {
    "collapsed": false
   },
   "outputs": [
    {
     "name": "stdout",
     "output_type": "stream",
     "text": [
      "[(0, 0, 3), (0, 4, 3), (0, 4, 3), (0, 4, 3)]\n"
     ]
    }
   ],
   "source": [
    "data = [[0.5,0.5],[0.5,0.5],[3],[4,4,4]]\n",
    "points = []\n",
    "for beam in data[2]:\n",
    "    points.append((0,0,beam))\n",
    "    for pillar in data[3]:\n",
    "        points.append((0,pillar,beam))\n",
    "print(points)\n"
   ]
  },
  {
   "cell_type": "markdown",
   "metadata": {},
   "source": [
    "Mmm, I need to use the position of the previous point to calculate this correctly."
   ]
  },
  {
   "cell_type": "code",
   "execution_count": 2,
   "metadata": {
    "collapsed": false
   },
   "outputs": [
    {
     "name": "stdout",
     "output_type": "stream",
     "text": [
      "[(0, 0, 3), (0, 4, 3), (0, 8, 3), (0, 12, 3)]\n"
     ]
    }
   ],
   "source": [
    "points = []\n",
    "absoluteBeam = 0\n",
    "for beam in data[2]:\n",
    "    absoluteBeam += beam\n",
    "    points.append((0,0,absoluteBeam))\n",
    "    for pillar in data[3]:\n",
    "        points.append((0,pillar+points[-1][1],absoluteBeam))\n",
    "    \n",
    "print(points)"
   ]
  },
  {
   "cell_type": "markdown",
   "metadata": {},
   "source": [
    "It seems to work. Let's put it in a function and test it again with another dataset:"
   ]
  },
  {
   "cell_type": "code",
   "execution_count": 3,
   "metadata": {
    "collapsed": false
   },
   "outputs": [
    {
     "data": {
      "text/plain": [
       "[(0, 0, 3), (0, 4, 3), (0, 8, 3), (0, 0, 6), (0, 4, 6), (0, 8, 6)]"
      ]
     },
     "execution_count": 3,
     "metadata": {},
     "output_type": "execute_result"
    }
   ],
   "source": [
    "def calcIntersectionPoints(data):\n",
    "    points = []\n",
    "    absoluteBeam = 0\n",
    "    for beam in data[2]:\n",
    "        absoluteBeam += beam\n",
    "        points.append((0,0,absoluteBeam))\n",
    "        for pillar in data[3]:\n",
    "            points.append((0,pillar+points[-1][1],absoluteBeam))\n",
    "    return points\n",
    "\n",
    "calcIntersectionPoints([[0.5,0.5],[0.5,0.5],[3,3],[4,4]])"
   ]
  },
  {
   "cell_type": "markdown",
   "metadata": {},
   "source": [
    "Ok, good. Now step 2. First of all, I need to sum up some vectors:"
   ]
  },
  {
   "cell_type": "code",
   "execution_count": 6,
   "metadata": {
    "collapsed": false
   },
   "outputs": [
    {
     "ename": "Exception",
     "evalue": "'+' function has been applied to [(0, 0, 0), (0, 0, 3.3), (4, 0, -3.3), (0, 0, 3.3)]!",
     "output_type": "error",
     "traceback": [
      "\u001b[0;31m---------------------------------------------------------------------------\u001b[0m",
      "\u001b[0;31mException\u001b[0m                                 Traceback (most recent call last)",
      "\u001b[0;32m<ipython-input-6-59da2df08c56>\u001b[0m in \u001b[0;36m<module>\u001b[0;34m()\u001b[0m\n\u001b[1;32m      1\u001b[0m \u001b[0mdata\u001b[0m \u001b[0;34m=\u001b[0m \u001b[0;34m[\u001b[0m\u001b[0;34m(\u001b[0m\u001b[0;36m0\u001b[0m\u001b[0;34m,\u001b[0m\u001b[0;36m0\u001b[0m\u001b[0;34m,\u001b[0m\u001b[0;36m0\u001b[0m\u001b[0;34m)\u001b[0m\u001b[0;34m,\u001b[0m\u001b[0;34m(\u001b[0m\u001b[0;36m0\u001b[0m\u001b[0;34m,\u001b[0m\u001b[0;36m0\u001b[0m\u001b[0;34m,\u001b[0m\u001b[0;36m3.3\u001b[0m\u001b[0;34m)\u001b[0m\u001b[0;34m,\u001b[0m\u001b[0;34m(\u001b[0m\u001b[0;36m4\u001b[0m\u001b[0;34m,\u001b[0m\u001b[0;36m0\u001b[0m\u001b[0;34m,\u001b[0m\u001b[0;34m-\u001b[0m\u001b[0;36m3.3\u001b[0m\u001b[0;34m)\u001b[0m\u001b[0;34m,\u001b[0m\u001b[0;34m(\u001b[0m\u001b[0;36m0\u001b[0m\u001b[0;34m,\u001b[0m\u001b[0;36m0\u001b[0m\u001b[0;34m,\u001b[0m\u001b[0;36m3.3\u001b[0m\u001b[0;34m)\u001b[0m\u001b[0;34m]\u001b[0m\u001b[0;34m\u001b[0m\u001b[0m\n\u001b[0;32m----> 2\u001b[0;31m \u001b[0mSUM\u001b[0m\u001b[0;34m(\u001b[0m\u001b[0mdata\u001b[0m\u001b[0;34m)\u001b[0m\u001b[0;34m\u001b[0m\u001b[0m\n\u001b[0m",
      "\u001b[0;32m/usr/lib/python2.7/site-packages/pyplasm/fenvs.py\u001b[0m in \u001b[0;36mSUM\u001b[0;34m(args)\u001b[0m\n\u001b[1;32m    515\u001b[0m                         \u001b[0;32mreturn\u001b[0m \u001b[0mVECTSUM\u001b[0m\u001b[0;34m(\u001b[0m\u001b[0margs\u001b[0m\u001b[0;34m)\u001b[0m\u001b[0;34m\u001b[0m\u001b[0m\n\u001b[1;32m    516\u001b[0m \u001b[0;34m\u001b[0m\u001b[0m\n\u001b[0;32m--> 517\u001b[0;31m         \u001b[0;32mraise\u001b[0m \u001b[0mException\u001b[0m\u001b[0;34m(\u001b[0m\u001b[0;34m\"\\'+\\' function has been applied to %s!\"\u001b[0m \u001b[0;34m%\u001b[0m \u001b[0mrepr\u001b[0m\u001b[0;34m(\u001b[0m\u001b[0margs\u001b[0m\u001b[0;34m)\u001b[0m\u001b[0;34m)\u001b[0m\u001b[0;34m\u001b[0m\u001b[0m\n\u001b[0m\u001b[1;32m    518\u001b[0m \u001b[0;34m\u001b[0m\u001b[0m\n\u001b[1;32m    519\u001b[0m \u001b[0;34m\u001b[0m\u001b[0m\n",
      "\u001b[0;31mException\u001b[0m: '+' function has been applied to [(0, 0, 0), (0, 0, 3.3), (4, 0, -3.3), (0, 0, 3.3)]!"
     ]
    }
   ],
   "source": [
    "data = [(0,0,0),(0,0,3.3),(4,0,-3.3),(0,0,3.3)]\n",
    "SUM(data)"
   ]
  },
  {
   "cell_type": "markdown",
   "metadata": {},
   "source": [
    "Such a strange error. Maybe tuples are not good?"
   ]
  },
  {
   "cell_type": "code",
   "execution_count": 7,
   "metadata": {
    "collapsed": false
   },
   "outputs": [
    {
     "data": {
      "text/plain": [
       "[4, 0, 3.3]"
      ]
     },
     "execution_count": 7,
     "metadata": {},
     "output_type": "execute_result"
    }
   ],
   "source": [
    "data = [[0,0,0],[0,0,3.3],[4,0,-3.3],[0,0,3.3]]\n",
    "SUM(data)"
   ]
  },
  {
   "cell_type": "markdown",
   "metadata": {},
   "source": [
    "Now it works. Good. So pyPlasm likes lists. I need to modify the calcIntersectionPoints function to not use tuples."
   ]
  },
  {
   "cell_type": "code",
   "execution_count": 8,
   "metadata": {
    "collapsed": false
   },
   "outputs": [
    {
     "data": {
      "text/plain": [
       "[[0, 0, 3], [0, 4, 3], [0, 8, 3], [0, 0, 6], [0, 4, 6], [0, 8, 6]]"
      ]
     },
     "execution_count": 8,
     "metadata": {},
     "output_type": "execute_result"
    }
   ],
   "source": [
    "def calcIntersectionPoints(data):\n",
    "    points = []\n",
    "    absoluteBeam = 0\n",
    "    for beam in data[2]:\n",
    "        absoluteBeam += beam\n",
    "        points.append([0,0,absoluteBeam])\n",
    "        for pillar in data[3]:\n",
    "            points.append([0,pillar+points[-1][1],absoluteBeam])\n",
    "    return points\n",
    "\n",
    "#Let's test\n",
    "calcIntersectionPoints([[0.5,0.5],[0.5,0.5],[3,3],[4,4]])"
   ]
  },
  {
   "cell_type": "markdown",
   "metadata": {},
   "source": [
    "Mmm, but how to determine the beams size?"
   ]
  },
  {
   "cell_type": "code",
   "execution_count": null,
   "metadata": {
    "collapsed": true
   },
   "outputs": [],
   "source": []
  }
 ],
 "metadata": {
  "kernelspec": {
   "display_name": "Python 2",
   "language": "python",
   "name": "python2"
  },
  "language_info": {
   "codemirror_mode": {
    "name": "ipython",
    "version": 2
   },
   "file_extension": ".py",
   "mimetype": "text/x-python",
   "name": "python",
   "nbconvert_exporter": "python",
   "pygments_lexer": "ipython2",
   "version": "2.7.5"
  }
 },
 "nbformat": 4,
 "nbformat_minor": 1
}
