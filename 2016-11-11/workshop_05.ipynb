{
 "cells": [
  {
   "cell_type": "markdown",
   "metadata": {},
   "source": [
    "# Diamond shaped class tables\n",
    "Let's build a classroom. We need:\n",
    "* Tables\n",
    "* Chairs\n",
    "* Storage fornitures\n",
    "\n",
    "## Tables\n",
    "The reference: [Smith System Diamond table](https://smithsystem.com/wp-content/uploads/2015/04/ss_03082_216.pdf)<br>\n",
    "![Reference](./images/table_ref.png)\n",
    "### Tabletop\n",
    "First of all the odd table-top. I'd like to generate the face made by the red triangle shown in the image below and then duplicate it two times and rotate the copies by PI\\*(2/3). Then make a JOIN with the result\n",
    "![Table top refrence](./images/tabletop_ref.png)"
   ]
  },
  {
   "cell_type": "code",
   "execution_count": 26,
   "metadata": {
    "collapsed": false
   },
   "outputs": [
    {
     "data": {
      "text/plain": [
       "<pyplasm.xgepy.Hpc; proxy of <Swig Object of type 'std::shared_ptr< Hpc > *' at 0x5a98030> >"
      ]
     },
     "execution_count": 26,
     "metadata": {},
     "output_type": "execute_result"
    }
   ],
   "source": [
    "from larlib import *\n",
    "\n",
    "# Let's define some colors I'll use later,\n",
    "brown = Color4f([208/255.0, 177/255.0, 145/255.0, 1.0])\n",
    "gray = Color4f([0.7,0.7,0.7,1.0])\n",
    "\n",
    "def table_genTopPolygon():\n",
    "    \"\"\"Generates the first polygon of the table top\"\"\"\n",
    "    verts = [[0,0],[-3,-3.1],[3,-3.1]]\n",
    "    faces = [[1,2,3]]\n",
    "    return MKPOL([verts,faces,[1]])\n",
    "\n",
    "def table_genTabletop():\n",
    "    \"\"\"Generates the 3D tabletop \"\"\"\n",
    "    threePols = STRUCT([\n",
    "            table_genTopPolygon(),\n",
    "            R([1,2])(2*PI/3),\n",
    "            table_genTopPolygon(),\n",
    "            R([1,2])(2*PI/3),\n",
    "            table_genTopPolygon()\n",
    "        ])\n",
    "    \n",
    "    return PROD([JOIN(threePols),Q(0.3)])\n",
    "\n",
    "VIEW(table_genTabletop())"
   ]
  },
  {
   "cell_type": "markdown",
   "metadata": {},
   "source": [
    "![Tabletop Polygon](./images/tabletop1.png)\n",
    "Looks nice.\n",
    "### Legs\n",
    "For a single leg: generate an approximately circular polygon and extrude it:"
   ]
  },
  {
   "cell_type": "code",
   "execution_count": 28,
   "metadata": {
    "collapsed": false
   },
   "outputs": [
    {
     "data": {
      "text/plain": [
       "<pyplasm.xgepy.Hpc; proxy of <Swig Object of type 'std::shared_ptr< Hpc > *' at 0x5d3ff00> >"
      ]
     },
     "execution_count": 28,
     "metadata": {},
     "output_type": "execute_result"
    }
   ],
   "source": [
    "def table_genLeg(steps=20,radius=0.3,height=6):\n",
    "    unfoldedVerts = [i*(2*PI/steps) for i in range(steps)]\n",
    "    verts = [[radius*COS(alpha),radius*SIN(alpha)] for alpha in unfoldedVerts]\n",
    "    faces = [[i+1 for i in range(steps)]]\n",
    "    return PROD([\n",
    "            MKPOL([verts,faces,[1]]),\n",
    "            Q(height)\n",
    "        ])\n",
    "\n",
    "VIEW(table_genLeg())"
   ]
  },
  {
   "cell_type": "markdown",
   "metadata": {},
   "source": [
    "![Leg](./images/leg.png)\n",
    "What a lovely leg. Now let's put it in place, duplicate it twice and rotate the copies as done before for the tabletop."
   ]
  },
  {
   "cell_type": "code",
   "execution_count": 29,
   "metadata": {
    "collapsed": false
   },
   "outputs": [
    {
     "data": {
      "text/plain": [
       "<pyplasm.xgepy.Hpc; proxy of <Swig Object of type 'std::shared_ptr< Hpc > *' at 0x5d3fcc0> >"
      ]
     },
     "execution_count": 29,
     "metadata": {},
     "output_type": "execute_result"
    }
   ],
   "source": [
    "def table_genLegs(height=6):\n",
    "    leg = STRUCT([T([1,2])([3,-2]),table_genLeg(height=height)])\n",
    "    return STRUCT([\n",
    "            leg,\n",
    "            R([1,2])(2*PI/3),\n",
    "            leg,\n",
    "            R([1,2])(2*PI/3),\n",
    "            leg\n",
    "        ])\n",
    "\n",
    "VIEW(table_genLegs())"
   ]
  },
  {
   "cell_type": "markdown",
   "metadata": {},
   "source": [
    "![Legs](./images/legs.png)\n",
    "Let's put it all together:"
   ]
  },
  {
   "cell_type": "code",
   "execution_count": 30,
   "metadata": {
    "collapsed": false
   },
   "outputs": [
    {
     "data": {
      "text/plain": [
       "<pyplasm.xgepy.Hpc; proxy of <Swig Object of type 'std::shared_ptr< Hpc > *' at 0x5a98060> >"
      ]
     },
     "execution_count": 30,
     "metadata": {},
     "output_type": "execute_result"
    }
   ],
   "source": [
    "def table_genTable(dx=0.864,dy=0.762,dz=0.813):\n",
    "    notScaledHeight = 6\n",
    "    table = STRUCT([\n",
    "            COLOR(gray)(table_genLegs(height=notScaledHeight)),\n",
    "            T(3)(notScaledHeight),\n",
    "            COLOR(brown)(table_genTabletop())\n",
    "        ])\n",
    "    tableSize = SIZE([1,2,3])(table)\n",
    "    return STRUCT([\n",
    "            S(1)(dx/tableSize[0]),\n",
    "            S(2)(dy/tableSize[1]),\n",
    "            S(3)(dz/tableSize[2]),\n",
    "            table\n",
    "        ])\n",
    "    \n",
    "\n",
    "VIEW(table_genTable())"
   ]
  },
  {
   "cell_type": "markdown",
   "metadata": {},
   "source": [
    "![Table](./images/table.png)\n",
    "Looks very nice\n",
    "## Chairs\n",
    "Now the sad little school chairs:\n",
    "![Reference](https://www.andythornton.com/uploads/images/ATFUVF386.jpg)\n",
    "Decomposing the model, the pieces are:\n",
    "* The metal legs (2 squared U-shaped metal pipes)\n",
    "* The back support (2 squared L-shaped metal pipes)\n",
    "* The sit (a single wood cuboid)\n",
    "* The back (a single wood cuboid)\n",
    "\n",
    "### The legs\n",
    "I'll extrude a simple 2D frame made by 3 polygons: "
   ]
  },
  {
   "cell_type": "code",
   "execution_count": 5,
   "metadata": {
    "collapsed": false
   },
   "outputs": [
    {
     "data": {
      "text/plain": [
       "<pyplasm.xgepy.Hpc; proxy of <Swig Object of type 'std::shared_ptr< Hpc > *' at 0x5a8d810> >"
      ]
     },
     "execution_count": 5,
     "metadata": {},
     "output_type": "execute_result"
    }
   ],
   "source": [
    "def chair_genLeg():\n",
    "    verts = [\n",
    "        [0,0],\n",
    "        [1,0],\n",
    "        [2,11],\n",
    "        [3,10],\n",
    "        [12,11],\n",
    "        [11,10],\n",
    "        [13,0],\n",
    "        [14,0]\n",
    "    ]\n",
    "    faces = [\n",
    "        [1,2,4,3],\n",
    "        [6,5,3,4],\n",
    "        [7,8,5,6]\n",
    "    ]\n",
    "    frame = MKPOL([verts,faces,[1]])\n",
    "    return MAP([S1,S3,S2])(PROD([frame, Q(1)]))\n",
    "    \n",
    "\n",
    "VIEW(chair_genLeg())"
   ]
  },
  {
   "cell_type": "markdown",
   "metadata": {},
   "source": [
    "![Chair Leg](./images/chair_leg.png)\n",
    "Cool.\n",
    "### The back support\n",
    "Same as for the legs:"
   ]
  },
  {
   "cell_type": "code",
   "execution_count": 6,
   "metadata": {
    "collapsed": false
   },
   "outputs": [
    {
     "data": {
      "text/plain": [
       "<pyplasm.xgepy.Hpc; proxy of <Swig Object of type 'std::shared_ptr< Hpc > *' at 0x5a8dd50> >"
      ]
     },
     "execution_count": 6,
     "metadata": {},
     "output_type": "execute_result"
    }
   ],
   "source": [
    "def chair_genBackSupport():\n",
    "    verts = [\n",
    "        [12,11],\n",
    "        [12,10],\n",
    "        [3,11],\n",
    "        [2.4,10],\n",
    "        [2,11],\n",
    "        [1,16],\n",
    "        [0,16],\n",
    "        [0,24],\n",
    "        [-1,24]\n",
    "    ]\n",
    "    faces = [\n",
    "        [1,3,4,2],\n",
    "        [4,3,5],\n",
    "        [3,6,7,5],\n",
    "        [7,6,8,9]\n",
    "    ]\n",
    "    frame = MKPOL([verts,faces,[1]])\n",
    "    return MAP([S1,S3,S2])(PROD([frame, Q(1)]))\n",
    "\n",
    "VIEW(chair_genBackSupport())"
   ]
  },
  {
   "cell_type": "markdown",
   "metadata": {},
   "source": [
    "![Back Support](./images/back_support.png)\n",
    "Ok.\n",
    "### The back and the sit\n",
    "I'll make them as basic cuboids. The one for the back must be rotated slightly on the Y-axis.\n",
    "### Put it all together"
   ]
  },
  {
   "cell_type": "code",
   "execution_count": 31,
   "metadata": {
    "collapsed": false
   },
   "outputs": [
    {
     "data": {
      "text/plain": [
       "<pyplasm.xgepy.Hpc; proxy of <Swig Object of type 'std::shared_ptr< Hpc > *' at 0x5d45030> >"
      ]
     },
     "execution_count": 31,
     "metadata": {},
     "output_type": "execute_result"
    }
   ],
   "source": [
    "def chair_genChair(dx=0.70,dy=0.50,dz=1):\n",
    "    brown = Color4f([208/255.0, 177/255.0, 145/255.0, 1.0])\n",
    "    gray = Color4f([0.7,0.7,0.7,1.0])\n",
    "    \n",
    "    leg = COLOR(gray)(chair_genLeg())\n",
    "    back_support = COLOR(gray)(chair_genBackSupport())\n",
    "    sit = COLOR(brown)(CUBOID([9,13.6,0.3]))\n",
    "    back = COLOR(brown)(R([1,3])(0.12435)(CUBOID([0.3,12,8]))) # Rotates a cuboid on the Y-axis of arctan(1/8)\n",
    "    chair = STRUCT([\n",
    "            leg,\n",
    "            T(2)(12)(leg),\n",
    "            T(2)(1)(back_support),\n",
    "            T(2)(11)(back_support),\n",
    "            T([1,2,3])([4,-0.3,11])(sit),\n",
    "            T([1,2,3])([1,0.5,16])(back)\n",
    "        ])\n",
    "    chairSize = SIZE([1,2,3])(chair)\n",
    "    return STRUCT([\n",
    "            T([1,2])([-dx/2,-dy/2]),\n",
    "            S(1)(dx/chairSize[0]),\n",
    "            S(2)(dy/chairSize[1]),\n",
    "            S(3)(dz/chairSize[2]),\n",
    "            chair\n",
    "        ])\n",
    "\n",
    "VIEW(chair_genChair())"
   ]
  },
  {
   "cell_type": "markdown",
   "metadata": {},
   "source": [
    "![Chair](./images/chair.png)\n",
    "## Arrangeing tables and chairs\n",
    "I have chairs and I have tables. Let's put them together."
   ]
  },
  {
   "cell_type": "code",
   "execution_count": 33,
   "metadata": {
    "collapsed": false
   },
   "outputs": [
    {
     "data": {
      "text/plain": [
       "<pyplasm.xgepy.Hpc; proxy of <Swig Object of type 'std::shared_ptr< Hpc > *' at 0x5d45120> >"
      ]
     },
     "execution_count": 33,
     "metadata": {},
     "output_type": "execute_result"
    }
   ],
   "source": [
    "def ggpl_classroom():\n",
    "    chair = T(1)(-1)(chair_genChair())\n",
    "    chairs = STRUCT([R([1,2])(i*2*PI/3)(chair) for i in range(3)])\n",
    "    table = R([1,2])(PI/6)(T([1,2])([-0.6,0.35])(table_genTable()))\n",
    "    tables = STRUCT([R([1,2])(i*PI/3)(table) for i in range(6)])\n",
    "    groundPlane = COLOR(GRAY)(T([1,2])([-2.5,-2.5])(CUBOID([5,5,0.0001])))\n",
    "    return STRUCT([\n",
    "            tables,\n",
    "            chairs,\n",
    "            groundPlane\n",
    "        ])\n",
    "\n",
    "#ggpl_classroom()\n",
    "VIEW(ggpl_classroom())"
   ]
  },
  {
   "cell_type": "markdown",
   "metadata": {},
   "source": [
    "![Classroom](./images/classroom.png)"
   ]
  },
  {
   "cell_type": "code",
   "execution_count": null,
   "metadata": {
    "collapsed": true
   },
   "outputs": [],
   "source": []
  }
 ],
 "metadata": {
  "kernelspec": {
   "display_name": "Python 2",
   "language": "python",
   "name": "python2"
  },
  "language_info": {
   "codemirror_mode": {
    "name": "ipython",
    "version": 2
   },
   "file_extension": ".py",
   "mimetype": "text/x-python",
   "name": "python",
   "nbconvert_exporter": "python",
   "pygments_lexer": "ipython2",
   "version": "2.7.5"
  }
 },
 "nbformat": 4,
 "nbformat_minor": 1
}
