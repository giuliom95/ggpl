{
 "cells": [
  {
   "cell_type": "markdown",
   "metadata": {},
   "source": [
    "# u_shaped_stairs\n",
    "### workshop_03: Parametric concrete stairs\n",
    "![Reference](https://www.keuka-studios.com/wp-content/uploads/2015/02/U-shaped-stairs-2.jpg)\n",
    "Subproblems:\n",
    "1. Generate a single run\n",
    "2. Generate the foot, the platform and the head\n",
    "3. Put it two runs and the pieces generated in step 2 togheter in a single HPC\n",
    "4. Check if the model sizes are the one given in input. If not, scale the model.\n",
    "\n",
    "#### Subproblem no. 1: Generate a single run.\n",
    "I'll generate a single step."
   ]
  },
  {
   "cell_type": "code",
   "execution_count": 1,
   "metadata": {
    "collapsed": false
   },
   "outputs": [
    {
     "name": "stdout",
     "output_type": "stream",
     "text": [
      "Evaluating fenvs.py..\n",
      "...fenvs.py imported in 0.02 seconds\n"
     ]
    },
    {
     "data": {
      "text/plain": [
       "<pyplasm.xgepy.Hpc; proxy of <Swig Object of type 'std::shared_ptr< Hpc > *' at 0x74c0f00> >"
      ]
     },
     "execution_count": 1,
     "metadata": {},
     "output_type": "execute_result"
    }
   ],
   "source": [
    "from larlib import *\n",
    "def genStep():\n",
    "    return PROD([MKPOL([[[0,0],[1,1],[1,2],[0,2]],[[1,2,3,4]],[1]]),QUOTE([1])])\n",
    "\n",
    "VIEW(genStep())"
   ]
  },
  {
   "cell_type": "markdown",
   "metadata": {},
   "source": [
    "![step1](./images/step1.png)\n",
    "Good, now I need to iterate it for a given number of steps:"
   ]
  },
  {
   "cell_type": "code",
   "execution_count": 2,
   "metadata": {
    "collapsed": false
   },
   "outputs": [
    {
     "data": {
      "text/plain": [
       "<pyplasm.xgepy.Hpc; proxy of <Swig Object of type 'std::shared_ptr< Hpc > *' at 0x74cb5a0> >"
      ]
     },
     "execution_count": 2,
     "metadata": {},
     "output_type": "execute_result"
    }
   ],
   "source": [
    "def genRun(numSteps):\n",
    "    hpcs = []\n",
    "    for i in range(numSteps-1):\n",
    "        hpcs.append(genStep())\n",
    "        hpcs.append(T([1,2])([1,1]))\n",
    "    hpcs.append(genStep())\n",
    "    return STRUCT(hpcs)\n",
    "\n",
    "VIEW(genRun(8))"
   ]
  },
  {
   "cell_type": "markdown",
   "metadata": {},
   "source": [
    "![run1](./images/run1.png)\n",
    "#### Subproblem no. 2: Generate the foot, the platform and the head\n",
    "I'll make them later as simple cuboids\n",
    "#### Subproblem no. 3: Put it all togheter\n",
    "I need to do some affine transformations:"
   ]
  },
  {
   "cell_type": "code",
   "execution_count": 3,
   "metadata": {
    "collapsed": false
   },
   "outputs": [
    {
     "data": {
      "text/plain": [
       "<pyplasm.xgepy.Hpc; proxy of <Swig Object of type 'std::shared_ptr< Hpc > *' at 0x74cba80> >"
      ]
     },
     "execution_count": 3,
     "metadata": {},
     "output_type": "execute_result"
    }
   ],
   "source": [
    "def genTwoRuns(numSteps):\n",
    "    \"\"\"Generates two runs. One up another.\"\"\"\n",
    "    return STRUCT([\n",
    "            genRun(numSteps),\n",
    "            T([1,2,3])([numSteps,numSteps,1]),\n",
    "            S(1)(-1.0), #Flip on the x axis\n",
    "            genRun(numSteps)\n",
    "        ])\n",
    "\n",
    "VIEW(genTwoRuns(8))"
   ]
  },
  {
   "cell_type": "markdown",
   "metadata": {},
   "source": [
    "![Two runs](./images/run2.png)\n",
    "Nice. Let's add foot, platform and head."
   ]
  },
  {
   "cell_type": "code",
   "execution_count": 4,
   "metadata": {
    "collapsed": false
   },
   "outputs": [
    {
     "data": {
      "text/plain": [
       "<pyplasm.xgepy.Hpc; proxy of <Swig Object of type 'std::shared_ptr< Hpc > *' at 0x74c0f90> >"
      ]
     },
     "execution_count": 4,
     "metadata": {},
     "output_type": "execute_result"
    }
   ],
   "source": [
    "def genUnitaryStair(runNumSteps):\n",
    "    model = STRUCT([\n",
    "            genTwoRuns(runNumSteps),\n",
    "            T([1,2])([runNumSteps,runNumSteps])(CUBOID([2,1,2])),\n",
    "            T(1)(-1.0),\n",
    "            CUBE(1),\n",
    "            T(2)(runNumSteps*2),\n",
    "            T(3)(1),\n",
    "            CUBE(1)\n",
    "        ])\n",
    "    return MAP([S1,S3,S2])(STRUCT([T(1)(1),model]))\n",
    "\n",
    "VIEW(genUnitaryStair(8))"
   ]
  },
  {
   "cell_type": "markdown",
   "metadata": {},
   "source": [
    "![Stairs1](./images/stairs1.png)\n",
    "#### Subproblem no. 4: Scale the model by given input"
   ]
  },
  {
   "cell_type": "code",
   "execution_count": null,
   "metadata": {
    "collapsed": false
   },
   "outputs": [],
   "source": [
    "def ggpl_u_shaped_stairs(dx,dy,dz):\n",
    "    dz = dz/2.0\n",
    "    tan = dz/dx\n",
    "    if tan < 0.53:\n",
    "        print('Parameters not valid: Too little steep')\n",
    "        return\n",
    "    elif tan > 0.72:\n",
    "        print('Parameters not valid: Too steep')\n",
    "        return\n",
    "    \n",
    "    steps = dz // 0.34\n",
    "    return STRUCT([\n",
    "            S(1)(dx/steps),\n",
    "            S(2)(dy/2.0),\n",
    "            S(3)(dz/steps),\n",
    "            genUnitaryStair(int(steps))\n",
    "        ])\n",
    "\n",
    "#Here some examples:\n",
    "#A small stair\n",
    "s1 = ggpl_u_shaped_stairs(4,2,2.7)\n",
    "SIZE([1,2,3])(s1)"
   ]
  },
  {
   "cell_type": "markdown",
   "metadata": {},
   "source": []
  },
  {
   "cell_type": "code",
   "execution_count": null,
   "metadata": {
    "collapsed": false
   },
   "outputs": [
    {
     "name": "stdout",
     "output_type": "stream",
     "text": [
      "Parameters not valid: Too little steep\n"
     ]
    }
   ],
   "source": [
    "s = VIEW(ggpl_u_shaped_stairs(9,4,5))\n",
    "SIZE([1,2,3])(s)"
   ]
  },
  {
   "cell_type": "markdown",
   "metadata": {},
   "source": [
    "##### The full code at this point"
   ]
  },
  {
   "cell_type": "code",
   "execution_count": 19,
   "metadata": {
    "collapsed": false
   },
   "outputs": [],
   "source": [
    "from larlib import *\n",
    "def genStep():\n",
    "    return PROD([MKPOL([[[0,0],[1,1],[1,2],[0,2]],[[1,2,3,4]],[1]]),QUOTE([1])])\n",
    "    \n",
    "def genRun(numSteps):\n",
    "    hpcs = []\n",
    "    for i in range(numSteps-1):\n",
    "        hpcs.append(genStep())\n",
    "        hpcs.append(T([1,2])([1,1]))\n",
    "    hpcs.append(genStep())\n",
    "    return STRUCT(hpcs)\n",
    "    \n",
    "def genTwoRuns(numSteps):\n",
    "    \"\"\"Generates two runs. One up another.\"\"\"\n",
    "    return STRUCT([\n",
    "            genRun(numSteps),\n",
    "            T([1,2,3])([numSteps,numSteps,1]),\n",
    "            S(1)(-1.0), #Flip on the x axis\n",
    "            genRun(numSteps)\n",
    "        ])\n",
    "\n",
    "def genUnitaryStair(runNumSteps):\n",
    "    model = STRUCT([\n",
    "            genTwoRuns(runNumSteps),\n",
    "            T([1,2])([runNumSteps,runNumSteps])(CUBOID([2,1,2])),\n",
    "            T(1)(-1.0),\n",
    "            CUBE(1),\n",
    "            T(2)(runNumSteps*2),\n",
    "            T(3)(1),\n",
    "            CUBE(1)\n",
    "        ])\n",
    "    return MAP([S1,S3,S2])(STRUCT([T(1)(1),model]))\n",
    "    \n",
    "def ggpl_u_shaped_stairs(dx,dy,dz):\n",
    "    dz = dz/2.0\n",
    "    tan = dz/dx\n",
    "    if tan < 0.53:\n",
    "        print('Parameters not valid: Too little steep')\n",
    "        return\n",
    "    elif tan > 0.72:\n",
    "        print('Parameters not valid: Too steep')\n",
    "        return\n",
    "    \n",
    "    steps = dz // 0.34\n",
    "    return STRUCT([\n",
    "            S([1,2,3])([dx/(steps+2),dy/2.0,dz/steps]),\n",
    "            genUnitaryStair(int(steps))\n",
    "        ])"
   ]
  },
  {
   "cell_type": "code",
   "execution_count": 20,
   "metadata": {
    "collapsed": false
   },
   "outputs": [
    {
     "data": {
      "text/plain": [
       "<pyplasm.xgepy.Hpc; proxy of <Swig Object of type 'std::shared_ptr< Hpc > *' at 0x5f6c330> >"
      ]
     },
     "execution_count": 20,
     "metadata": {},
     "output_type": "execute_result"
    }
   ],
   "source": [
    "s1 = ggpl_u_shaped_stairs(4,2,5)\n",
    "VIEW(s1)"
   ]
  },
  {
   "cell_type": "markdown",
   "metadata": {},
   "source": [
    "![Stairs4](./images/stairs4.png)\n",
    "Now we need to check the dimensions and rescale the model."
   ]
  },
  {
   "cell_type": "markdown",
   "metadata": {},
   "source": []
  }
 ],
 "metadata": {
  "kernelspec": {
   "display_name": "Python 2",
   "language": "python",
   "name": "python2"
  },
  "language_info": {
   "codemirror_mode": {
    "name": "ipython",
    "version": 2
   },
   "file_extension": ".py",
   "mimetype": "text/x-python",
   "name": "python",
   "nbconvert_exporter": "python",
   "pygments_lexer": "ipython2",
   "version": "2.7.5"
  }
 },
 "nbformat": 4,
 "nbformat_minor": 1
}
