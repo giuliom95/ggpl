{
 "cells": [
  {
   "cell_type": "markdown",
   "metadata": {
    "collapsed": true
   },
   "source": [
    "# Workshop_02  2016-10-21\n",
    "The reference structure I choose to reproduce is:\n",
    "![alt text](http://www.ragusanews.com/immagini_articoli/24-02-2014/1396117860-aaa-cemento-armato-su-tre-piani-in-zona-agricola-vista-paesaggio.jpg \"Riferimento\")\n",
    "\n",
    "Delaying the problem of the beams between the pillars frames (*i telai piani*), the first solution that has come to my mind is to evaluate every line of the CVS file in order.\n",
    "So, the subproblems are:\n",
    "1. Split every line of the CVS in a list of lists\n",
    "2. Generate a PyPlasm object (either an HPC of pillar frames or a translation) from the list created in step 1\n",
    "3. Generate a list of PyPlasm objects ready for the STRUCT function"
   ]
  },
  {
   "cell_type": "code",
   "execution_count": null,
   "metadata": {
    "collapsed": false
   },
   "outputs": [],
   "source": [
    "%run "
   ]
  },
  {
   "cell_type": "code",
   "execution_count": null,
   "metadata": {
    "collapsed": true
   },
   "outputs": [],
   "source": []
  }
 ],
 "metadata": {
  "kernelspec": {
   "display_name": "Python 2",
   "language": "python",
   "name": "python2"
  },
  "language_info": {
   "codemirror_mode": {
    "name": "ipython",
    "version": 2
   },
   "file_extension": ".py",
   "mimetype": "text/x-python",
   "name": "python",
   "nbconvert_exporter": "python",
   "pygments_lexer": "ipython2",
   "version": "2.7.5"
  }
 },
 "nbformat": 4,
 "nbformat_minor": 1
}
