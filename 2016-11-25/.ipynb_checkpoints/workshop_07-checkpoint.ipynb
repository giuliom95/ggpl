{
 "cells": [
  {
   "cell_type": "markdown",
   "metadata": {},
   "source": [
    "# Modeling wooden doors and windows\n",
    "## Windows\n",
    "Let's start with windows. Here the reference:\n",
    "![Reference](http://www.sierrascalemodels.com/Images_Art/windows.gif)"
   ]
  },
  {
   "cell_type": "code",
   "execution_count": 129,
   "metadata": {
    "collapsed": false
   },
   "outputs": [],
   "source": [
    "from pyplasm import *\n",
    "import itertools\n",
    "\n",
    "# Let's generate a simple dataset\n",
    "X = [0, 0.02, 0.12, 0.62, 0.72, 0.74]\n",
    "Y = [0, 0.1, 0.8, 0.82, 0.92]\n",
    "Z = [0, 0.1]\n",
    "occupancy = [\n",
    "    [[True] ,[False],[True],[False]], # x0\n",
    "    [[True] ,[True] ,[True],[True] ], # x1\n",
    "    [[True] ,[False],[True],[True]], # x2\n",
    "    [[True] ,[True] ,[True],[True] ], # x3\n",
    "    [[True] ,[False],[True],[False]]  # x4\n",
    "]"
   ]
  },
  {
   "cell_type": "code",
   "execution_count": 89,
   "metadata": {
    "collapsed": false
   },
   "outputs": [
    {
     "data": {
      "text/plain": [
       "<pyplasm.xgepy.Hpc; proxy of <Swig Object of type 'std::shared_ptr< Hpc > *' at 0x59a0480> >"
      ]
     },
     "execution_count": 89,
     "metadata": {},
     "output_type": "execute_result"
    }
   ],
   "source": [
    "# Here a first version of the window function. It is a second order function\n",
    "#  that accepts as params the quote vectors X,Y,Z, the occupancy matrix and\n",
    "#  as paramters of the returned function the size of the bounding box\n",
    "def window(X,Y,Z,occupancy):\n",
    "    \n",
    "    def genModel(dx,dy,dz):\n",
    "        cartesianProd = itertools.product(range(len(X)-1),range(len(Y)-1),range(len(Z)-1))\n",
    "        return STRUCT([\n",
    "            T([1,2,3])([X[i],Y[j],Z[k]])(\n",
    "                CUBOID([\n",
    "                        X[i+1]-X[i],\n",
    "                        Y[j+1]-Y[j],\n",
    "                        Z[k+1]-Z[k]\n",
    "                    ])\n",
    "            )\n",
    "            for [i,j,k] in cartesianProd if occupancy[i][j][k]\n",
    "        ])\n",
    "    \n",
    "    return genModel\n",
    "\n",
    "VIEW(window(X,Y,Z,occupancy)(0,0,0))"
   ]
  },
  {
   "cell_type": "markdown",
   "metadata": {},
   "source": [
    "![First Window](./images/first_window.png)\n",
    "Looks pretty basic, but it works. Now let's define a new version of the function where the dx,dy,dz params actually do something:"
   ]
  },
  {
   "cell_type": "code",
   "execution_count": 92,
   "metadata": {
    "collapsed": false
   },
   "outputs": [
    {
     "data": {
      "text/plain": [
       "<pyplasm.xgepy.Hpc; proxy of <Swig Object of type 'std::shared_ptr< Hpc > *' at 0x5e15b70> >"
      ]
     },
     "execution_count": 92,
     "metadata": {},
     "output_type": "execute_result"
    }
   ],
   "source": [
    "# This generates a window with the horizontal frame pieces longer of one meter \n",
    "#  and the vertical ones of two meters. \n",
    "#  Note: \n",
    "#   An \"horizontal frame piece\" is a cell with a X:Y dimensional ratio bigger than 3.\n",
    "#   A \"vertical\" one have the X:Y ratio less than 0.33\n",
    "def window(X,Y,Z,occupancy):\n",
    "    \n",
    "    def sum(a):\n",
    "        def s(b):\n",
    "            return a+b\n",
    "        return s\n",
    "    \n",
    "    def genModel(dx,dy,dz):\n",
    "        cartesianProd = [(i,j,k) for (i,j,k) in itertools.product(range(len(X)-1),range(len(Y)-1),range(len(Z)-1))]\n",
    "        \n",
    "        for (i,j,k) in cartesianProd:\n",
    "            \n",
    "            dimX, dimY, dimZ = X[i+1]-X[i], Y[j+1]-Y[j], Z[k+1]-Z[k]\n",
    "            \n",
    "            if occupancy[i][j][k]:\n",
    "                ratio = dimX / dimY\n",
    "                if ratio > 3:\n",
    "                    X1 = X[:i+1] + AA(sum(1))(X[i+1:])  \n",
    "                elif ratio < 0.33:\n",
    "                    Y1 = Y[:j+1] + AA(sum(2))(Y[j+1:])\n",
    "        \n",
    "        return STRUCT([\n",
    "            T([1,2,3])([X1[i],Y1[j],Z[k]])(\n",
    "                CUBOID([\n",
    "                        X1[i+1]-X1[i],\n",
    "                        Y1[j+1]-Y1[j],\n",
    "                        Z[k+1]-Z[k]\n",
    "                    ])\n",
    "            )\n",
    "            for [i,j,k] in cartesianProd if occupancy[i][j][k]\n",
    "        ])\n",
    "        \n",
    "    \n",
    "    return genModel\n",
    "\n",
    "VIEW(window(X,Y,Z,occupancy)(0,0,0))"
   ]
  },
  {
   "cell_type": "code",
   "execution_count": 135,
   "metadata": {
    "collapsed": false
   },
   "outputs": [
    {
     "data": {
      "text/plain": [
       "<pyplasm.xgepy.Hpc; proxy of <Swig Object of type 'std::shared_ptr< Hpc > *' at 0x6114e70> >"
      ]
     },
     "execution_count": 135,
     "metadata": {},
     "output_type": "execute_result"
    }
   ],
   "source": [
    "\n",
    "# This approach works but maybe it's better to generate three list of indices:\n",
    "#  - One made by the indices of the \"horizontal frame pieces\"\n",
    "#  - One made by the indices of the \"vertical frame pieces\"\n",
    "#  - One made by the indices of the other pieces\n",
    "\n",
    "def window(X,Y,Z,occupancy):\n",
    "    \n",
    "    def sum(a):\n",
    "        def s(b):\n",
    "            return a+b\n",
    "        return s\n",
    "    \n",
    "    def genModel(dx,dy,dz):\n",
    "        cartesianProd = itertools.product(range(len(X)-1),range(len(Y)-1),range(len(Z)-1))\n",
    "        \n",
    "        # The three lists\n",
    "        pieces = [(i,j,k) for (i,j,k) in cartesianProd if occupancy[i][j][k]]\n",
    "        hPieces = [(i,j,k) for (i,j,k) in pieces if (Y[j+1]-Y[j]) > 0.05 and (X[i+1]-X[i]) / (Y[j+1]-Y[j]) > 3]\n",
    "        vPieces = [(i,j,k) for (i,j,k) in pieces if (X[i+1]-X[i]) > 0.05 and (X[i+1]-X[i]) / (Y[j+1]-Y[j]) < 0.33]\n",
    "        \n",
    "        # Now I want to find a set of X quote indices of horizontal frame pieces.\n",
    "        hPiecesIndexes = list(set([i for (i,_,_) in hPieces]))\n",
    "        vPiecesIndexes = list(set([j for (_,j,_) in vPieces]))\n",
    "        \n",
    "        # Now the length of these pieces\n",
    "        hPiecesLength = SUM([X[i+1]-X[i] for i in hPiecesIndexes])\n",
    "        vPiecesLength = SUM([Y[j+1]-Y[j] for j in vPiecesIndexes])\n",
    "        \n",
    "        # Now the length that the frame pieces must be\n",
    "        hPiecesDesiredLength = (dx - X[-1] + hPiecesLength) / len(hPiecesIndexes)\n",
    "        vPiecesDesiredLength = (dy - Y[-1] + vPiecesLength) / len(vPiecesIndexes)\n",
    "        \n",
    "        # Now let's generate the new quote vectors\n",
    "        finalX = X[:]\n",
    "        finalY = Y[:]\n",
    "        \n",
    "        for i in hPiecesIndexes:\n",
    "            finalX = finalX[:i+1] + AA(sum(hPiecesDesiredLength-(finalX[i+1]-finalX[i])))(finalX[i+1:])\n",
    "        \n",
    "        for j in vPiecesIndexes:\n",
    "            finalY = finalY[:j+1] + AA(sum(vPiecesDesiredLength-(finalY[j+1]-finalY[j])))(finalY[j+1:])\n",
    "        \n",
    "        return STRUCT([\n",
    "            T([1,2,3])([finalX[i],finalY[j],Z[k]])(\n",
    "                CUBOID([\n",
    "                        finalX[i+1]-finalX[i],\n",
    "                        finalY[j+1]-finalY[j],\n",
    "                        Z[k+1]-Z[k]\n",
    "                    ])\n",
    "            )\n",
    "            for [i,j,k] in pieces\n",
    "        ])\n",
    "        \n",
    "    \n",
    "    return genModel\n",
    "\n",
    "\n",
    "VIEW(window(X,Y,Z,occupancy)(1,2,1))"
   ]
  },
  {
   "cell_type": "markdown",
   "metadata": {},
   "source": [
    "![Final Window](./images/window_final.png)"
   ]
  },
  {
   "cell_type": "code",
   "execution_count": 145,
   "metadata": {
    "collapsed": false
   },
   "outputs": [
    {
     "ename": "IndexError",
     "evalue": "list index out of range",
     "output_type": "error",
     "traceback": [
      "\u001b[0;31m---------------------------------------------------------------------------\u001b[0m",
      "\u001b[0;31mIndexError\u001b[0m                                Traceback (most recent call last)",
      "\u001b[0;32m<ipython-input-145-cbf8634ddcb4>\u001b[0m in \u001b[0;36m<module>\u001b[0;34m()\u001b[0m\n\u001b[1;32m     12\u001b[0m     \u001b[0;34m[\u001b[0m\u001b[0;34m[\u001b[0m\u001b[0mTrue\u001b[0m\u001b[0;34m]\u001b[0m \u001b[0;34m,\u001b[0m\u001b[0;34m[\u001b[0m\u001b[0mFalse\u001b[0m\u001b[0;34m]\u001b[0m\u001b[0;34m,\u001b[0m\u001b[0;34m[\u001b[0m\u001b[0mFalse\u001b[0m\u001b[0;34m]\u001b[0m\u001b[0;34m,\u001b[0m\u001b[0;34m[\u001b[0m\u001b[0mFalse\u001b[0m\u001b[0;34m]\u001b[0m\u001b[0;34m,\u001b[0m\u001b[0;34m[\u001b[0m\u001b[0mTrue\u001b[0m\u001b[0;34m]\u001b[0m\u001b[0;34m,\u001b[0m\u001b[0;34m[\u001b[0m\u001b[0mFalse\u001b[0m\u001b[0;34m]\u001b[0m\u001b[0;34m]\u001b[0m  \u001b[0;31m# x6\u001b[0m\u001b[0;34m\u001b[0m\u001b[0m\n\u001b[1;32m     13\u001b[0m ]\n\u001b[0;32m---> 14\u001b[0;31m \u001b[0mVIEW\u001b[0m\u001b[0;34m(\u001b[0m\u001b[0mwindow\u001b[0m\u001b[0;34m(\u001b[0m\u001b[0mX\u001b[0m\u001b[0;34m,\u001b[0m\u001b[0mY\u001b[0m\u001b[0;34m,\u001b[0m\u001b[0mZ\u001b[0m\u001b[0;34m,\u001b[0m\u001b[0moccupancy\u001b[0m\u001b[0;34m)\u001b[0m\u001b[0;34m(\u001b[0m\u001b[0;36m1\u001b[0m\u001b[0;34m,\u001b[0m\u001b[0;36m2\u001b[0m\u001b[0;34m,\u001b[0m\u001b[0;36m1\u001b[0m\u001b[0;34m)\u001b[0m\u001b[0;34m)\u001b[0m\u001b[0;34m\u001b[0m\u001b[0m\n\u001b[0m",
      "\u001b[0;32m<ipython-input-135-4afdaa6a8ef5>\u001b[0m in \u001b[0;36mgenModel\u001b[0;34m(dx, dy, dz)\u001b[0m\n\u001b[1;32m     25\u001b[0m \u001b[0;34m\u001b[0m\u001b[0m\n\u001b[1;32m     26\u001b[0m         \u001b[0;31m# Now the length of these pieces\u001b[0m\u001b[0;34m\u001b[0m\u001b[0;34m\u001b[0m\u001b[0m\n\u001b[0;32m---> 27\u001b[0;31m         \u001b[0mhPiecesLength\u001b[0m \u001b[0;34m=\u001b[0m \u001b[0mSUM\u001b[0m\u001b[0;34m(\u001b[0m\u001b[0;34m[\u001b[0m\u001b[0mX\u001b[0m\u001b[0;34m[\u001b[0m\u001b[0mi\u001b[0m\u001b[0;34m+\u001b[0m\u001b[0;36m1\u001b[0m\u001b[0;34m]\u001b[0m\u001b[0;34m-\u001b[0m\u001b[0mX\u001b[0m\u001b[0;34m[\u001b[0m\u001b[0mi\u001b[0m\u001b[0;34m]\u001b[0m \u001b[0;32mfor\u001b[0m \u001b[0mi\u001b[0m \u001b[0;32min\u001b[0m \u001b[0mhPiecesIndexes\u001b[0m\u001b[0;34m]\u001b[0m\u001b[0;34m)\u001b[0m\u001b[0;34m\u001b[0m\u001b[0m\n\u001b[0m\u001b[1;32m     28\u001b[0m         \u001b[0mvPiecesLength\u001b[0m \u001b[0;34m=\u001b[0m \u001b[0mSUM\u001b[0m\u001b[0;34m(\u001b[0m\u001b[0;34m[\u001b[0m\u001b[0mY\u001b[0m\u001b[0;34m[\u001b[0m\u001b[0mj\u001b[0m\u001b[0;34m+\u001b[0m\u001b[0;36m1\u001b[0m\u001b[0;34m]\u001b[0m\u001b[0;34m-\u001b[0m\u001b[0mY\u001b[0m\u001b[0;34m[\u001b[0m\u001b[0mj\u001b[0m\u001b[0;34m]\u001b[0m \u001b[0;32mfor\u001b[0m \u001b[0mj\u001b[0m \u001b[0;32min\u001b[0m \u001b[0mvPiecesIndexes\u001b[0m\u001b[0;34m]\u001b[0m\u001b[0;34m)\u001b[0m\u001b[0;34m\u001b[0m\u001b[0m\n\u001b[1;32m     29\u001b[0m \u001b[0;34m\u001b[0m\u001b[0m\n",
      "\u001b[0;32m/usr/lib/python2.7/site-packages/pyplasm/fenvs.py\u001b[0m in \u001b[0;36mSUM\u001b[0;34m(args)\u001b[0m\n\u001b[1;32m    499\u001b[0m \u001b[0;34m\u001b[0m\u001b[0m\n\u001b[1;32m    500\u001b[0m \u001b[0;34m\u001b[0m\u001b[0m\n\u001b[0;32m--> 501\u001b[0;31m         \u001b[0;32mif\u001b[0m \u001b[0misinstance\u001b[0m\u001b[0;34m(\u001b[0m\u001b[0margs\u001b[0m\u001b[0;34m,\u001b[0m\u001b[0mlist\u001b[0m\u001b[0;34m)\u001b[0m \u001b[0;32mand\u001b[0m \u001b[0mISPOL\u001b[0m\u001b[0;34m(\u001b[0m\u001b[0margs\u001b[0m\u001b[0;34m[\u001b[0m\u001b[0;36m0\u001b[0m\u001b[0;34m]\u001b[0m\u001b[0;34m)\u001b[0m\u001b[0;34m:\u001b[0m\u001b[0;34m\u001b[0m\u001b[0m\n\u001b[0m\u001b[1;32m    502\u001b[0m                 \u001b[0;32mreturn\u001b[0m \u001b[0mUNION\u001b[0m\u001b[0;34m(\u001b[0m\u001b[0margs\u001b[0m\u001b[0;34m)\u001b[0m\u001b[0;34m\u001b[0m\u001b[0m\n\u001b[1;32m    503\u001b[0m \u001b[0;34m\u001b[0m\u001b[0m\n",
      "\u001b[0;31mIndexError\u001b[0m: list index out of range"
     ]
    }
   ],
   "source": [
    "# Ok It works. Now let's test it on more complex data:\n",
    "X = [0, 0.02, 0.12, 0.36, 0.38, 0.62, 0.72, 0.74]\n",
    "Y = [0, 0.1, 0.42, 0.44, 0.8, 0.82, 0.92]\n",
    "Z = [0, 0.1]\n",
    "occupancy = [\n",
    "    [[True] ,[False],[False],[False],[True],[False]], # x0\n",
    "    [[True] ,[True] ,[True] ,[True] ,[True],[True] ], # x1\n",
    "    [[True] ,[False],[True] ,[False],[True],[True]], # x2\n",
    "    [[True] ,[True] ,[True] ,[True] ,[True],[True]], # x3\n",
    "    [[True] ,[False],[True] ,[False],[True],[True]], # x4\n",
    "    [[True] ,[True] ,[True] ,[True] ,[True],[True] ], # x5\n",
    "    [[True] ,[False],[False],[False],[True],[False]]  # x6\n",
    "]\n",
    "VIEW(window(X,Y,Z,occupancy)(1,2,1))"
   ]
  }
 ],
 "metadata": {
  "kernelspec": {
   "display_name": "Python 2",
   "language": "python",
   "name": "python2"
  },
  "language_info": {
   "codemirror_mode": {
    "name": "ipython",
    "version": 2
   },
   "file_extension": ".py",
   "mimetype": "text/x-python",
   "name": "python",
   "nbconvert_exporter": "python",
   "pygments_lexer": "ipython2",
   "version": "2.7.5"
  }
 },
 "nbformat": 4,
 "nbformat_minor": 1
}
