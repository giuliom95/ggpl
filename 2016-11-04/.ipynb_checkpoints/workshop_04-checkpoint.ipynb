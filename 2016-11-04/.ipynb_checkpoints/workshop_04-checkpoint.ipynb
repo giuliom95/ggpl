{
 "cells": [
  {
   "cell_type": "markdown",
   "metadata": {},
   "source": [
    "# Roofs\n",
    "### ggpl workshop_04\n",
    "![Reference](./images/ref.png)"
   ]
  },
  {
   "cell_type": "code",
   "execution_count": 102,
   "metadata": {
    "collapsed": false
   },
   "outputs": [
    {
     "data": {
      "text/plain": [
       "<pyplasm.xgepy.Hpc; proxy of <Swig Object of type 'std::shared_ptr< Hpc > *' at 0x6b850c0> >"
      ]
     },
     "execution_count": 102,
     "metadata": {},
     "output_type": "execute_result"
    }
   ],
   "source": [
    "from larlib import *\n",
    "\n",
    "verts = [\n",
    "    [0,0,0], #1\n",
    "    [1,1,0], #2\n",
    "    [2,2,0], #3\n",
    "    [4,2,0], #4\n",
    "    [4,1,0], #5\n",
    "    [4,0,0], #6\n",
    "    [1,1,3], #7\n",
    "    [4,1,3]  #8\n",
    "]\n",
    "\n",
    "faces = [\n",
    "    [1,7,8,6],\n",
    "    [6,8,5],\n",
    "    [5,8,7,2],\n",
    "    [1,2,7],\n",
    "    [1,6,5,2],\n",
    "    \n",
    "    [7,8,5,2],\n",
    "    [5,8,4],\n",
    "    [2,5,4,3],\n",
    "    [7,2,3],\n",
    "    [8,7,3,4]\n",
    "]\n",
    "faces = [i[::-1] for i in faces]\n",
    "pol = MKPOL([verts,faces,[1]])\n",
    "roof = STRUCT([\n",
    "        pol,\n",
    "        MAP([S2,S1,S3])(pol)\n",
    "    ])\n",
    "VIEW(roof)"
   ]
  },
  {
   "cell_type": "markdown",
   "metadata": {},
   "source": [
    "![First result](./images/myhpc.png)\n",
    "There is a little normals discrepancy, but it is ok. \n",
    "Let's discover the functioning of the UKPOL func"
   ]
  },
  {
   "cell_type": "code",
   "execution_count": 103,
   "metadata": {
    "collapsed": false
   },
   "outputs": [
    {
     "data": {
      "text/plain": [
       "[[[4.0, 0.9999998807907104, 3.000000238418579],\n",
       "  [0.0, 0.0, 0.0],\n",
       "  [1.0, 0.9999998807907104, 3.000000238418579],\n",
       "  [4.0, 0.0, 0.0],\n",
       "  [4.0, 1.0, 0.0],\n",
       "  [4.0, 1.0, 3.0],\n",
       "  [4.0, 0.0, -1.3866695599588098e-32],\n",
       "  [4.0, 1.0, 3.0],\n",
       "  [1.0, 1.0, 0.0],\n",
       "  [4.0, 1.0, 0.0],\n",
       "  [1.0, 1.0, 3.0],\n",
       "  [1.0, 1.0, -1.268878707724281e-32],\n",
       "  [1.0, 1.0, 3.0],\n",
       "  [1.1920928955078125e-07, 0.0, -3.9021209105317674e-16],\n",
       "  [4.0, 1.0, 0.0],\n",
       "  [0.0, 0.0, 0.0],\n",
       "  [1.0, 1.0, 0.0],\n",
       "  [4.0, 0.0, 0.0],\n",
       "  [4.0, 1.0, 3.0],\n",
       "  [1.0, 1.0, 0.0],\n",
       "  [1.0, 1.0, 3.0],\n",
       "  [4.0, 1.0, 0.0],\n",
       "  [4.0, 2.0, 0.0],\n",
       "  [4.0, 1.0, 3.0],\n",
       "  [4.0, 1.0, 0.0],\n",
       "  [4.0, 2.0, 0.0],\n",
       "  [1.0, 1.0, 0.0],\n",
       "  [2.0, 2.0, 0.0],\n",
       "  [4.0, 1.0, 0.0],\n",
       "  [2.0, 2.0, 0.0],\n",
       "  [1.0000001192092896, 1.0, 3.0],\n",
       "  [1.0000001192092896, 1.0, 0.0],\n",
       "  [4.0, 2.0, 0.0],\n",
       "  [1.0, 1.0000001192092896, 3.000000238418579],\n",
       "  [2.0, 2.0, 0.0],\n",
       "  [4.0, 1.0000001192092896, 3.000000238418579],\n",
       "  [0.9999998807907104, 4.0, 3.000000238418579],\n",
       "  [5.960464477539063e-08, 0.0, -2.384185791015625e-07],\n",
       "  [0.9999998807907104, 1.0, 3.000000238418579],\n",
       "  [5.960464477539063e-08, 4.0, -2.384185791015625e-07],\n",
       "  [0.0, 4.0, 0.0],\n",
       "  [1.0, 4.0, 3.0],\n",
       "  [1.0, 4.0, 0.0],\n",
       "  [1.0, 1.0, 0.0],\n",
       "  [1.0, 4.0, 3.0],\n",
       "  [1.0, 1.0, 3.0],\n",
       "  [1.0, 4.0, 0.0],\n",
       "  [1.1920928955078125e-07, 5.960464477539063e-08, 1.0233682662137006e-16],\n",
       "  [1.0, 1.0, 3.0],\n",
       "  [1.0, 1.0, -8.7273567886343e-34],\n",
       "  [1.0, 4.0, 0.0],\n",
       "  [0.0, 0.0, 0.0],\n",
       "  [1.0, 1.0, 0.0],\n",
       "  [0.0, 4.0, 0.0],\n",
       "  [1.0, 4.0, 3.0],\n",
       "  [1.0, 1.0, 0.0],\n",
       "  [1.0, 4.0, 0.0],\n",
       "  [1.0, 1.0, 3.0],\n",
       "  [1.0, 4.0, 3.0],\n",
       "  [2.0, 4.0, 0.0],\n",
       "  [1.0, 4.0, 0.0],\n",
       "  [2.0, 4.0, 0.0],\n",
       "  [1.0, 1.0, 0.0],\n",
       "  [2.0, 2.0, 0.0],\n",
       "  [1.0, 4.0, 0.0],\n",
       "  [1.0, 1.0000001192092896, -1.625290320242077e-24],\n",
       "  [1.0, 1.0000001192092896, 3.0],\n",
       "  [1.9999998807907104, 2.0, 7.712511593947242e-17],\n",
       "  [1.000000238418579, 1.0, 3.000000238418579],\n",
       "  [2.0, 4.0, -1.7519829498269246e-07],\n",
       "  [2.0, 2.0, -1.7519829498269246e-07],\n",
       "  [1.000000238418579, 4.0, 3.000000238418579]],\n",
       " [[1, 3, 2, 4],\n",
       "  [6, 7, 5],\n",
       "  [8, 10, 9, 11],\n",
       "  [13, 14, 12],\n",
       "  [15, 17, 16, 18],\n",
       "  [19, 21, 20, 22],\n",
       "  [24, 25, 23],\n",
       "  [26, 28, 27, 29],\n",
       "  [31, 32, 30],\n",
       "  [33, 35, 34, 36],\n",
       "  [37, 39, 38, 40],\n",
       "  [42, 43, 41],\n",
       "  [44, 46, 45, 47],\n",
       "  [49, 50, 48],\n",
       "  [51, 53, 52, 54],\n",
       "  [55, 57, 56, 58],\n",
       "  [60, 61, 59],\n",
       "  [62, 64, 63, 65],\n",
       "  [67, 68, 66],\n",
       "  [69, 71, 70, 72]],\n",
       " [[1]]]"
      ]
     },
     "execution_count": 103,
     "metadata": {},
     "output_type": "execute_result"
    }
   ],
   "source": [
    "UKPOL(roof)"
   ]
  },
  {
   "cell_type": "markdown",
   "metadata": {},
   "source": [
    "Woah. It generates what seems to be the argument of a MKPOL function..."
   ]
  },
  {
   "cell_type": "code",
   "execution_count": 104,
   "metadata": {
    "collapsed": false
   },
   "outputs": [
    {
     "data": {
      "text/plain": [
       "[(1.0, 1.0, 0.0),\n",
       " (4.0, 1.0, 3.0),\n",
       " (1.0, 4.0, 0.0),\n",
       " (4.0, 0.0, 0.0),\n",
       " (1.0, 1.0, 3.0),\n",
       " (2.0, 4.0, 0.0),\n",
       " (4.0, 1.0, 0.0),\n",
       " (2.0, 2.0, 0.0),\n",
       " (0.0, 0.0, 0.0),\n",
       " (4.0, 2.0, 0.0),\n",
       " (0.0, 4.0, -0.0),\n",
       " (1.0, 4.0, 3.0)]"
      ]
     },
     "execution_count": 104,
     "metadata": {},
     "output_type": "execute_result"
    }
   ],
   "source": [
    "polygon_data = UKPOL(roof)\n",
    "verts_data = list(set([tuple([round(x),round(y),round(z)]) for [x,y,z] in polygon_data[0]]))\n",
    "verts_data"
   ]
  },
  {
   "cell_type": "markdown",
   "metadata": {},
   "source": [
    "Ok, I've got the vertices.\n",
    "Now I want to get the vertices that are on the same plane."
   ]
  },
  {
   "cell_type": "code",
   "execution_count": 105,
   "metadata": {
    "collapsed": false
   },
   "outputs": [
    {
     "data": {
      "text/plain": [
       "True"
      ]
     },
     "execution_count": 105,
     "metadata": {},
     "output_type": "execute_result"
    }
   ],
   "source": [
    "def areCoplanar(v1,v2,v3,v4):\n",
    "    \"\"\"Returns if v1,v2,v3,v4 are coplanar.\"\"\"\n",
    "    v1v4 = VECTDIFF([v1,v4])\n",
    "    v1v2 = VECTDIFF([v1,v2])\n",
    "    v1v3 = VECTDIFF([v1,v3])\n",
    "\n",
    "    prod = VECTPROD([v1v2,v1v3])\n",
    "    return VECTNORM([prod[0]*v1v4[0],prod[1]*v1v4[1],prod[2]*v1v4[2]]) == 0\n",
    "\n",
    "areCoplanar(verts_data[0],verts_data[2],verts_data[3],verts_data[5])"
   ]
  },
  {
   "cell_type": "markdown",
   "metadata": {},
   "source": [
    "I want to find the base plane."
   ]
  },
  {
   "cell_type": "code",
   "execution_count": 116,
   "metadata": {
    "collapsed": false
   },
   "outputs": [
    {
     "name": "stdout",
     "output_type": "stream",
     "text": [
      "[2, 4, 5, 7, 9, 10, 12, 14, 15, 16, 17, 18, 20, 22, 23, 25, 26, 27, 28, 29, 30, 32, 33, 35, 38, 40, 41, 43, 44, 47, 48, 50, 51, 52, 53, 54, 56, 57, 60, 61, 62, 63, 64, 65, 66, 68, 70, 71]\n"
     ]
    }
   ],
   "source": [
    "def getVertsIndexOnBasePlane():\n",
    "    \"\"\"Returns the indexes of all the verts on the base plane\"\"\"\n",
    "    ret = []\n",
    "    for i in range(len(polygon_data[0])):\n",
    "        if(round(polygon_data[0][i][2])==0):\n",
    "            ret.append(i+1)\n",
    "    return ret\n",
    "\n",
    "verts = getVertsIndexOnBasePlane()\n",
    "print verts"
   ]
  },
  {
   "cell_type": "code",
   "execution_count": 118,
   "metadata": {
    "collapsed": false
   },
   "outputs": [
    {
     "data": {
      "text/plain": [
       "(True, False)"
      ]
     },
     "execution_count": 118,
     "metadata": {},
     "output_type": "execute_result"
    }
   ],
   "source": [
    "def isListInList(l1, l2):\n",
    "    for i in l1:\n",
    "        if not( i in l2 ):\n",
    "            return False\n",
    "    return True\n",
    "\n",
    "isListInList([2,4,5],verts), isListInList([1,2,4,5],verts)"
   ]
  },
  {
   "cell_type": "code",
   "execution_count": 119,
   "metadata": {
    "collapsed": false
   },
   "outputs": [
    {
     "data": {
      "text/plain": [
       "[[15, 17, 16, 18], [26, 28, 27, 29], [51, 53, 52, 54], [62, 64, 63, 65]]"
      ]
     },
     "execution_count": 119,
     "metadata": {},
     "output_type": "execute_result"
    }
   ],
   "source": [
    "faces = [i for i in polygon_data[1] if isListInList(i,verts)]\n",
    "faces"
   ]
  },
  {
   "cell_type": "code",
   "execution_count": 121,
   "metadata": {
    "collapsed": false
   },
   "outputs": [
    {
     "data": {
      "text/plain": [
       "<pyplasm.xgepy.Hpc; proxy of <Swig Object of type 'std::shared_ptr< Hpc > *' at 0x6b85a20> >"
      ]
     },
     "execution_count": 121,
     "metadata": {},
     "output_type": "execute_result"
    }
   ],
   "source": [
    "VIEW(MKPOL([polygon_data[0],faces,[1]]))"
   ]
  },
  {
   "cell_type": "markdown",
   "metadata": {},
   "source": [
    "![Base plane](./images/base_plane.png)\n",
    "OK. What I found is almost useless. Later I'll try another approach.\n",
    "#### A new approach\n",
    "For every face of the HPC, get all the vertices and group them in two sets:\n",
    "* ***S1*** The vertices with z=0\n",
    "* ***S2*** The other vertices\n",
    "\n",
    "Given two points of S1 (if there are) called V1 and V2, consider the plane P formed by V1,V2 and a vertex with z=V1.z<br>\n",
    "If even a single point in S2 is not coplanar to P, then add the face in a list.<br>\n",
    "Then draw every face in the list so generated.\n"
   ]
  },
  {
   "cell_type": "code",
   "execution_count": null,
   "metadata": {
    "collapsed": true
   },
   "outputs": [],
   "source": []
  }
 ],
 "metadata": {
  "kernelspec": {
   "display_name": "Python 2",
   "language": "python",
   "name": "python2"
  },
  "language_info": {
   "codemirror_mode": {
    "name": "ipython",
    "version": 2
   },
   "file_extension": ".py",
   "mimetype": "text/x-python",
   "name": "python",
   "nbconvert_exporter": "python",
   "pygments_lexer": "ipython2",
   "version": "2.7.5"
  }
 },
 "nbformat": 4,
 "nbformat_minor": 1
}
